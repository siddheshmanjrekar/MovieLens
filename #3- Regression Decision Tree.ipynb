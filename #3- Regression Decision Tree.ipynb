{
 "cells": [
  {
   "cell_type": "markdown",
   "metadata": {},
   "source": [
    "#### Importing Libraries"
   ]
  },
  {
   "cell_type": "code",
   "execution_count": 1,
   "metadata": {},
   "outputs": [],
   "source": [
    "import pandas as pd\n",
    "from sklearn.tree import DecisionTreeRegressor\n",
    "from sklearn.metrics import mean_squared_error, mean_absolute_error, r2_score\n",
    "from sklearn.model_selection import GridSearchCV\n",
    "from sklearn.preprocessing import LabelEncoder\n",
    "from sklearn.model_selection import train_test_split\n",
    "from sklearn.tree import export_graphviz\n",
    "import warnings\n",
    "warnings.filterwarnings(\"ignore\")"
   ]
  },
  {
   "cell_type": "markdown",
   "metadata": {},
   "source": [
    "#### Reading in data"
   ]
  },
  {
   "cell_type": "code",
   "execution_count": 2,
   "metadata": {},
   "outputs": [],
   "source": [
    "X= pd.read_csv('added_data.csv')"
   ]
  },
  {
   "cell_type": "code",
   "execution_count": 3,
   "metadata": {},
   "outputs": [
    {
     "data": {
      "text/html": [
       "<div>\n",
       "<style scoped>\n",
       "    .dataframe tbody tr th:only-of-type {\n",
       "        vertical-align: middle;\n",
       "    }\n",
       "\n",
       "    .dataframe tbody tr th {\n",
       "        vertical-align: top;\n",
       "    }\n",
       "\n",
       "    .dataframe thead th {\n",
       "        text-align: right;\n",
       "    }\n",
       "</style>\n",
       "<table border=\"1\" class=\"dataframe\">\n",
       "  <thead>\n",
       "    <tr style=\"text-align: right;\">\n",
       "      <th></th>\n",
       "      <th>movieId</th>\n",
       "      <th>rating</th>\n",
       "      <th>genres</th>\n",
       "      <th>imdbId</th>\n",
       "      <th>directors</th>\n",
       "      <th>cast</th>\n",
       "      <th>writer</th>\n",
       "    </tr>\n",
       "  </thead>\n",
       "  <tbody>\n",
       "    <tr>\n",
       "      <th>0</th>\n",
       "      <td>1</td>\n",
       "      <td>3.920930</td>\n",
       "      <td>Adventure|Animation|Children|Comedy|Fantasy</td>\n",
       "      <td>114709</td>\n",
       "      <td>John Lasseter</td>\n",
       "      <td>Tom Hanks</td>\n",
       "      <td>John Lasseter</td>\n",
       "    </tr>\n",
       "    <tr>\n",
       "      <th>1</th>\n",
       "      <td>2</td>\n",
       "      <td>3.431818</td>\n",
       "      <td>Adventure|Children|Fantasy</td>\n",
       "      <td>113497</td>\n",
       "      <td>Joe Johnston</td>\n",
       "      <td>Robin Williams</td>\n",
       "      <td>Jonathan Hensleigh</td>\n",
       "    </tr>\n",
       "    <tr>\n",
       "      <th>2</th>\n",
       "      <td>3</td>\n",
       "      <td>3.259615</td>\n",
       "      <td>Comedy|Romance</td>\n",
       "      <td>113228</td>\n",
       "      <td>Howard Deutch</td>\n",
       "      <td>Walter Matthau</td>\n",
       "      <td>Mark Steven Johnson</td>\n",
       "    </tr>\n",
       "    <tr>\n",
       "      <th>3</th>\n",
       "      <td>4</td>\n",
       "      <td>2.357143</td>\n",
       "      <td>Comedy|Drama|Romance</td>\n",
       "      <td>114885</td>\n",
       "      <td>Forest Whitaker</td>\n",
       "      <td>Whitney Houston</td>\n",
       "      <td>Terry McMillan</td>\n",
       "    </tr>\n",
       "    <tr>\n",
       "      <th>4</th>\n",
       "      <td>5</td>\n",
       "      <td>3.071429</td>\n",
       "      <td>Comedy</td>\n",
       "      <td>113041</td>\n",
       "      <td>Charles Shyer</td>\n",
       "      <td>Steve Martin</td>\n",
       "      <td>Albert Hackett</td>\n",
       "    </tr>\n",
       "  </tbody>\n",
       "</table>\n",
       "</div>"
      ],
      "text/plain": [
       "   movieId    rating                                       genres  imdbId  \\\n",
       "0        1  3.920930  Adventure|Animation|Children|Comedy|Fantasy  114709   \n",
       "1        2  3.431818                   Adventure|Children|Fantasy  113497   \n",
       "2        3  3.259615                               Comedy|Romance  113228   \n",
       "3        4  2.357143                         Comedy|Drama|Romance  114885   \n",
       "4        5  3.071429                                       Comedy  113041   \n",
       "\n",
       "         directors             cast               writer  \n",
       "0    John Lasseter        Tom Hanks        John Lasseter  \n",
       "1     Joe Johnston   Robin Williams   Jonathan Hensleigh  \n",
       "2    Howard Deutch   Walter Matthau  Mark Steven Johnson  \n",
       "3  Forest Whitaker  Whitney Houston       Terry McMillan  \n",
       "4    Charles Shyer     Steve Martin       Albert Hackett  "
      ]
     },
     "execution_count": 3,
     "metadata": {},
     "output_type": "execute_result"
    }
   ],
   "source": [
    "X.head()"
   ]
  },
  {
   "cell_type": "code",
   "execution_count": 4,
   "metadata": {},
   "outputs": [
    {
     "data": {
      "text/plain": [
       "(9447, 7)"
      ]
     },
     "execution_count": 4,
     "metadata": {},
     "output_type": "execute_result"
    }
   ],
   "source": [
    "X.shape"
   ]
  },
  {
   "cell_type": "markdown",
   "metadata": {},
   "source": [
    "#### Get sum of all the movies director/cast/writer directed and total score"
   ]
  },
  {
   "cell_type": "code",
   "execution_count": 5,
   "metadata": {},
   "outputs": [],
   "source": [
    "c= X['directors'].value_counts()\n",
    "d= X['cast'].value_counts()\n",
    "e= X['writer'].value_counts()\n",
    "\n",
    "f= X.drop(columns= ['movieId', 'genres', 'imdbId', 'cast', 'writer'])\n",
    "f= f.groupby(['directors']).sum()\n",
    "g= X.drop(columns= ['movieId', 'genres', 'imdbId', 'directors', 'writer'])\n",
    "g= g.groupby(['cast']).sum()\n",
    "h= X.drop(columns= ['movieId', 'genres', 'imdbId', 'cast', 'directors'])\n",
    "h= h.groupby(['writer']).sum()"
   ]
  },
  {
   "cell_type": "markdown",
   "metadata": {},
   "source": [
    "#### Calculating Attribute Ranks"
   ]
  },
  {
   "cell_type": "code",
   "execution_count": 6,
   "metadata": {},
   "outputs": [],
   "source": [
    "directors= []\n",
    "cast= []\n",
    "writer= []\n",
    "    \n",
    "for i, row in X.iterrows():\n",
    "    \n",
    "    row_director= X['directors'].loc[i]\n",
    "    row_cast= X['cast'].loc[i]\n",
    "    row_writer= X['writer'].loc[i]\n",
    "    \n",
    "    directors.append(f['rating'][row_director]*(c[row_director]))\n",
    "    cast.append(g['rating'][row_cast]*(d[row_cast]))\n",
    "    writer.append(h['rating'][row_writer]*(e[row_writer]))"
   ]
  },
  {
   "cell_type": "markdown",
   "metadata": {},
   "source": [
    "#### Adding coluns to table"
   ]
  },
  {
   "cell_type": "code",
   "execution_count": 7,
   "metadata": {},
   "outputs": [],
   "source": [
    "directors= pd.DataFrame(directors)\n",
    "X= pd.concat([X, directors], axis=1) \n",
    "X= X.rename(columns={0: \"director\"})\n",
    "\n",
    "cast= pd.DataFrame(cast)\n",
    "X= pd.concat([X, cast], axis=1) \n",
    "X= X.rename(columns={0: \"casts\"})\n",
    "\n",
    "writer= pd.DataFrame(writer)\n",
    "X= pd.concat([X, writer], axis=1) \n",
    "X= X.rename(columns={0: \"writers\"})"
   ]
  },
  {
   "cell_type": "markdown",
   "metadata": {},
   "source": [
    "#### Filtering low frequency instances of data"
   ]
  },
  {
   "cell_type": "code",
   "execution_count": 8,
   "metadata": {},
   "outputs": [],
   "source": [
    "for i, row in X.iterrows():\n",
    "    row_director= X['directors'].loc[i]\n",
    "    row_cast= X['cast'].loc[i]\n",
    "    row_writer= X['writer'].loc[i]\n",
    "    if(c[row_director]<=10 and d[row_cast]<=10 and e[row_writer]<=10):\n",
    "        X= X.drop(i)"
   ]
  },
  {
   "cell_type": "code",
   "execution_count": 9,
   "metadata": {},
   "outputs": [],
   "source": [
    "X= X.drop(columns= ['directors', 'cast', 'writer', 'movieId', 'imdbId'])"
   ]
  },
  {
   "cell_type": "markdown",
   "metadata": {},
   "source": [
    "#### Categorical Variables"
   ]
  },
  {
   "cell_type": "code",
   "execution_count": 10,
   "metadata": {},
   "outputs": [],
   "source": [
    "genres =X['genres'].str.get_dummies()\n",
    "X = pd.concat([X, genres], axis=1)\n",
    "del X['genres']"
   ]
  },
  {
   "cell_type": "code",
   "execution_count": 11,
   "metadata": {},
   "outputs": [],
   "source": [
    "train, test = train_test_split(X, test_size=0.3)"
   ]
  },
  {
   "cell_type": "code",
   "execution_count": 12,
   "metadata": {},
   "outputs": [],
   "source": [
    "train_y= train[['rating']]\n",
    "train_x= train.drop(columns= ['rating'])\n",
    "test_y= test[['rating']]\n",
    "test_x= test.drop(columns= ['rating'])"
   ]
  },
  {
   "cell_type": "markdown",
   "metadata": {},
   "source": [
    "#### Cross Validation to find best parameters"
   ]
  },
  {
   "cell_type": "code",
   "execution_count": 13,
   "metadata": {},
   "outputs": [],
   "source": [
    "param_grid = {\n",
    "              \"max_depth\": [1,2,3,4,5,6,7,8,9,10]\n",
    "              }\n",
    "dt = DecisionTreeRegressor()\n",
    "dt.fit(train_x,train_y)\n",
    "grid_search = GridSearchCV(dt, param_grid, cv=5)\n",
    "grid_search.fit(train_x, train_y)\n",
    "best_no_leaves= grid_search.best_params_"
   ]
  },
  {
   "cell_type": "code",
   "execution_count": 14,
   "metadata": {},
   "outputs": [],
   "source": [
    "dt = DecisionTreeRegressor(max_depth= 15)\n",
    "dt= dt.fit(train_x,train_y)"
   ]
  },
  {
   "cell_type": "markdown",
   "metadata": {},
   "source": [
    "#### Evaluating scores"
   ]
  },
  {
   "cell_type": "code",
   "execution_count": 15,
   "metadata": {},
   "outputs": [
    {
     "name": "stdout",
     "output_type": "stream",
     "text": [
      "Mean Squared Error:  0.16681206731376366\n",
      "Mean Absolute Error:  0.20366557588378895\n",
      "R2 Score:  0.7502022971640457\n"
     ]
    }
   ],
   "source": [
    "y_pred= dt.predict(train_x)\n",
    "print(\"Mean Squared Error: \", mean_squared_error(train_y, y_pred))\n",
    "print(\"Mean Absolute Error: \", mean_absolute_error(train_y, y_pred))\n",
    "print(\"R2 Score: \", r2_score(train_y, y_pred))"
   ]
  },
  {
   "cell_type": "code",
   "execution_count": 16,
   "metadata": {},
   "outputs": [
    {
     "name": "stdout",
     "output_type": "stream",
     "text": [
      "Mean Squared Error:  0.3233722446724285\n",
      "Mean Absolute Error:  0.3050904606437739\n",
      "R2 Score:  0.50854334442355\n"
     ]
    }
   ],
   "source": [
    "y_pred= dt.predict(test_x)\n",
    "print(\"Mean Squared Error: \", mean_squared_error(test_y, y_pred))\n",
    "print(\"Mean Absolute Error: \", mean_absolute_error(test_y, y_pred))\n",
    "print(\"R2 Score: \", r2_score(test_y, y_pred))"
   ]
  }
 ],
 "metadata": {
  "kernelspec": {
   "display_name": "Python 3",
   "language": "python",
   "name": "python3"
  },
  "language_info": {
   "codemirror_mode": {
    "name": "ipython",
    "version": 3
   },
   "file_extension": ".py",
   "mimetype": "text/x-python",
   "name": "python",
   "nbconvert_exporter": "python",
   "pygments_lexer": "ipython3",
   "version": "3.7.3"
  }
 },
 "nbformat": 4,
 "nbformat_minor": 2
}
